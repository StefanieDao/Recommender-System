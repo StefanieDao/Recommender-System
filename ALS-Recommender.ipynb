{
 "cells": [
  {
   "cell_type": "code",
   "execution_count": 1,
   "id": "86f98332",
   "metadata": {},
   "outputs": [],
   "source": [
    "import gzip\n",
    "from collections import defaultdict\n",
    "import math\n",
    "import scipy.optimize\n",
    "import numpy\n",
    "import string\n",
    "import csv\n",
    "from sklearn import linear_model\n",
    "import pandas as pd\n",
    "from surprise import Dataset, Reader\n",
    "from surprise.model_selection import train_test_split, cross_validate\n",
    "from surprise import accuracy"
   ]
  },
  {
   "cell_type": "code",
   "execution_count": 2,
   "id": "4f8a9a37",
   "metadata": {},
   "outputs": [],
   "source": [
    "import sys\n",
    "import pandas as pd\n",
    "import numpy as np\n",
    "import scipy.sparse as sparse\n",
    "from scipy.sparse.linalg import spsolve\n",
    "import random\n",
    "import implicit \n",
    "\n",
    "from sklearn.preprocessing import MinMaxScaler"
   ]
  },
  {
   "cell_type": "markdown",
   "id": "c8e93f3b",
   "metadata": {},
   "source": [
    "## Task 1: Cook prediction"
   ]
  },
  {
   "cell_type": "markdown",
   "id": "882f22d0",
   "metadata": {},
   "source": [
    "Step 1 - Data Import & Preparation\n",
    "\n",
    "Step 2 - Cross-Validation\n",
    "\n",
    "Step 3 - Model Fitting\n",
    "\n",
    "Step 4 - Prediction"
   ]
  },
  {
   "cell_type": "code",
   "execution_count": 3,
   "id": "5bd05c7c",
   "metadata": {},
   "outputs": [
    {
     "data": {
      "text/plain": [
       "['user_id', 'recipe_id', 'date', 'rating']"
      ]
     },
     "execution_count": 3,
     "metadata": {},
     "output_type": "execute_result"
    }
   ],
   "source": [
    "#-------------------------\n",
    "# LOAD DATA\n",
    "#-------------------------\n",
    "def readData(path):\n",
    "    f = gzip.open(path, 'rt')\n",
    "    reader = csv.reader(f)\n",
    "    head = next(reader)\n",
    "    rows = []\n",
    "    for row in reader:\n",
    "        rows.append(row)\n",
    "    return head, rows\n",
    "        \n",
    "p = \"assignment1/trainInteractions.csv.gz\"\n",
    "header, data1 = readData(p)\n",
    "header"
   ]
  },
  {
   "cell_type": "code",
   "execution_count": 4,
   "id": "666be00c",
   "metadata": {},
   "outputs": [],
   "source": [
    "train = [[d[0], d[1], d[3]] for d in data1]"
   ]
  },
  {
   "cell_type": "code",
   "execution_count": 13,
   "id": "3a1e0226",
   "metadata": {},
   "outputs": [],
   "source": [
    "data2 = pd.read_csv(p)"
   ]
  },
  {
   "cell_type": "code",
   "execution_count": 6,
   "id": "a7e33c1f",
   "metadata": {},
   "outputs": [],
   "source": [
    "#-------------------------\n",
    "# PREPARE DATA\n",
    "#-------------------------\n",
    "usersPerItem = defaultdict(set) # Maps an item to the users who rated it\n",
    "itemsPerUser = defaultdict(set) # Maps a user to the items that they rated\n",
    "ratingDict = {} # To retrieve a rating for a specific user/item pair\n",
    "\n",
    "for d in data1:\n",
    "    user,item = d[0], d[1]\n",
    "    usersPerItem[item].add(user)\n",
    "    itemsPerUser[user].add(item)\n",
    "    ratingDict[(user,item)] = int(d[3])"
   ]
  },
  {
   "cell_type": "code",
   "execution_count": 7,
   "id": "b8a1020d",
   "metadata": {},
   "outputs": [],
   "source": [
    "#-------------------------\n",
    "# ENCODE DATA\n",
    "#-------------------------\n",
    "\n",
    "# Create a numeric user_id and recipe_id column\n",
    "data2['user'] = data2['user_id'].astype(\"category\")\n",
    "data2['recipe'] = data2['recipe_id'].astype(\"category\")\n",
    "data2['userID'] = data2['user'].cat.codes\n",
    "data2['recipeID'] = data2['recipe'].cat.codes\n",
    "\n",
    "userCode = dict(enumerate(data2.user_id.astype(\"category\").cat.categories))\n",
    "uc = {v: k for k, v in userCode.items()}\n",
    "recipeCode = dict(enumerate(data2.recipe_id.astype(\"category\").cat.categories))\n",
    "rc = {v: k for k, v in recipeCode.items()}"
   ]
  },
  {
   "cell_type": "code",
   "execution_count": 8,
   "id": "7863899d",
   "metadata": {},
   "outputs": [
    {
     "name": "stderr",
     "output_type": "stream",
     "text": [
      "WARNING:root:Intel MKL BLAS detected. Its highly recommend to set the environment variable 'export MKL_NUM_THREADS=1' to disable its internal multithreading\n"
     ]
    },
    {
     "data": {
      "application/vnd.jupyter.widget-view+json": {
       "model_id": "14fd99e44d40471abbfacac81394df5e",
       "version_major": 2,
       "version_minor": 0
      },
      "text/plain": [
       "  0%|          | 0/20 [00:00<?, ?it/s]"
      ]
     },
     "metadata": {},
     "output_type": "display_data"
    }
   ],
   "source": [
    "# Convert user names into numerical IDs\n",
    "sparse_item_user = sparse.csr_matrix((data2['rating'].astype(float), (data2['recipeID'], data2['userID'])))\n",
    "sparse_user_item = sparse.csr_matrix((data2['rating'].astype(float), (data2['userID'], data2['recipeID'])))\n",
    "\n",
    "# Initialize the als model and fit it using the sparse recipe-user matrix\n",
    "model = implicit.als.AlternatingLeastSquares(factors=20, regularization=0.1, iterations=20)\n",
    "\n",
    "# Calculate the confidence by multiplying it by alpha value.\n",
    "alpha_val = 40\n",
    "data_conf = (sparse_item_user * alpha_val).astype('double')\n",
    "\n",
    "# Fit the model\n",
    "model.fit(data_conf)"
   ]
  },
  {
   "cell_type": "code",
   "execution_count": 9,
   "id": "682e67ea",
   "metadata": {},
   "outputs": [],
   "source": [
    "def recommendPop(user_id, sparse_user_item, user_vecs, item_vecs, query_item, pop_list):\n",
    "    \"\"\"Predict items compatibility for a given user given a trained model\n",
    "    \n",
    "    Args:\n",
    "        user_id (int): The id of the user we want to create recommendations for.\n",
    "        \n",
    "        sparse_user_item (csr_matrix): Our original training data.\n",
    "        \n",
    "        user_vecs (csr_matrix): The trained user x features vectors\n",
    "        \n",
    "        item_vecs (csr_matrix): The trained item x features vectors\n",
    "        \n",
    "        query_item (recipeID): Recipe to look up\n",
    "        \n",
    "        pop_list (list): Popular recipe list\n",
    "        \n",
    "    Returns:\n",
    "        0: User would NOT cook this recipe (query_item)\n",
    "        1: User would cook this recipe (query_item)\n",
    "    \n",
    "    \"\"\"\n",
    "    # Get all interactions by the user\n",
    "    u = uc[int(user_id)]\n",
    "    user_interactions = sparse_user_item[u,:].toarray()\n",
    "\n",
    "    # We don't want to recommend items the user has consumed. So let's\n",
    "    # set them all to 0 and the unknowns to 1.\n",
    "    user_interactions = user_interactions.reshape(-1) + 1 #Reshape to turn into 1D array\n",
    "\n",
    "    # This is where we calculate the recommendation by taking the \n",
    "    # dot-product of the user vectors with the item vectors.\n",
    "    rec_vector = user_vecs[u,:].dot(item_vecs.T).toarray()\n",
    "\n",
    "    # Let's scale our scores between 0 and 1 to make it all easier to interpret.\n",
    "    min_max = MinMaxScaler()\n",
    "    rec_vector_scaled = min_max.fit_transform(rec_vector.reshape(-1,1))[:,0]\n",
    "    recommend_vector = user_interactions*rec_vector_scaled\n",
    "   \n",
    "    # item has been seen before \n",
    "    if int(query_item) in rc:\n",
    "        i = rc[int(query_item)]\n",
    "        ## if compatible or item is popular\n",
    "        if (recommend_vector[i] >= 0.7) or (query_item in pop_list):\n",
    "            return 1\n",
    "        else: \n",
    "            return 0\n",
    "        ## if not compatible \n",
    "    # item has not been seen before but users cooked a lot\n",
    "    elif len(itemsPerUser[user_id]) >= 3500:\n",
    "        return 1    \n",
    "    return 0"
   ]
  },
  {
   "cell_type": "code",
   "execution_count": 10,
   "id": "2bba486e",
   "metadata": {},
   "outputs": [],
   "source": [
    "# cross_validate(algo, knn_train, measures=['RMSE'], cv=5, verbose=True)"
   ]
  },
  {
   "cell_type": "code",
   "execution_count": 11,
   "id": "e88c2885",
   "metadata": {},
   "outputs": [],
   "source": [
    "user_vecs = sparse.csr_matrix(model.user_factors)\n",
    "item_vecs = sparse.csr_matrix(model.item_factors)\n",
    "\n",
    "def would_cook1():\n",
    "    # Popular recipes\n",
    "    recipeCount = defaultdict(int)\n",
    "    totalCooked = 0\n",
    "\n",
    "    for user,recipe,_ in train:\n",
    "        recipeCount[recipe] += 1\n",
    "        totalCooked += 1\n",
    "\n",
    "    mostPopular = [(recipeCount[x], x) for x in recipeCount]\n",
    "    mostPopular.sort()\n",
    "    mostPopular.reverse()\n",
    "    \n",
    "    # Try different threshold \n",
    "    limit = totalCooked/1.5\n",
    "        \n",
    "    return1 = set()\n",
    "    count = 0\n",
    "    for ic, i in mostPopular:\n",
    "        count += ic\n",
    "        return1.add(i)\n",
    "        if count > limit: break\n",
    "    \n",
    "    # Read input file and write prediction to a file\n",
    "    predictions = open(\"assignment1/predictions_Made.txt\", 'w')\n",
    "    for l in open(\"assignment1/stub_Made.txt\"):\n",
    "        if l.startswith(\"user_id\"):\n",
    "        #header\n",
    "            predictions.write(l)\n",
    "            continue\n",
    "\n",
    "        u,i = l.strip().split('-')\n",
    "        \n",
    "        # New User\n",
    "        if (not int(u) in uc):\n",
    "            if i in return1:\n",
    "                predictions.write(u + '-' + i + \",1\\n\")\n",
    "            else:\n",
    "                predictions.write(u + '-' + i + \",0\\n\")\n",
    "\n",
    "            continue\n",
    "            \n",
    "        # Existing user\n",
    "        result = recommendPop(u, sparse_user_item, user_vecs, item_vecs, i, return1)\n",
    "        if result == 0:\n",
    "            predictions.write(u + '-' + i + \",0\\n\")\n",
    "        else:\n",
    "            predictions.write(u + '-' + i + \",1\\n\")\n",
    "    predictions.close()    "
   ]
  },
  {
   "cell_type": "code",
   "execution_count": 12,
   "id": "4aa6a87d",
   "metadata": {},
   "outputs": [],
   "source": [
    "would_cook1()"
   ]
  }
 ],
 "metadata": {
  "kernelspec": {
   "display_name": "Python 3",
   "language": "python",
   "name": "python3"
  },
  "language_info": {
   "codemirror_mode": {
    "name": "ipython",
    "version": 3
   },
   "file_extension": ".py",
   "mimetype": "text/x-python",
   "name": "python",
   "nbconvert_exporter": "python",
   "pygments_lexer": "ipython3",
   "version": "3.8.8"
  }
 },
 "nbformat": 4,
 "nbformat_minor": 5
}
