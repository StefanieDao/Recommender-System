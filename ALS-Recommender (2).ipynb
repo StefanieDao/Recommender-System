{
 "cells": [
  {
   "cell_type": "code",
   "execution_count": 1,
   "id": "86f98332",
   "metadata": {},
   "outputs": [],
   "source": [
    "import gzip\n",
    "from collections import defaultdict\n",
    "import math\n",
    "import scipy.optimize\n",
    "import numpy\n",
    "import string\n",
    "import csv\n",
    "from sklearn import linear_model\n",
    "import pandas as pd\n",
    "from surprise import Dataset, Reader\n",
    "from surprise.model_selection import train_test_split, cross_validate\n",
    "from surprise import accuracy"
   ]
  },
  {
   "cell_type": "code",
   "execution_count": 2,
   "id": "4f8a9a37",
   "metadata": {},
   "outputs": [],
   "source": [
    "import sys\n",
    "import pandas as pd\n",
    "import numpy as np\n",
    "import scipy.sparse as sparse\n",
    "from scipy.sparse.linalg import spsolve\n",
    "import random\n",
    "import implicit \n",
    "\n",
    "from sklearn.preprocessing import MinMaxScaler"
   ]
  },
  {
   "cell_type": "markdown",
   "id": "c8e93f3b",
   "metadata": {},
   "source": [
    "## Task 1: Cook prediction"
   ]
  },
  {
   "cell_type": "markdown",
   "id": "882f22d0",
   "metadata": {},
   "source": [
    "Step 1 - Data Import & Preparation\n",
    "\n",
    "Step 2 - Cross-Validation\n",
    "\n",
    "Step 3 - Model Fitting\n",
    "\n",
    "Step 4 - Prediction"
   ]
  },
  {
   "cell_type": "code",
   "execution_count": 3,
   "id": "5bd05c7c",
   "metadata": {},
   "outputs": [
    {
     "data": {
      "text/plain": [
       "['user_id', 'recipe_id', 'date', 'rating']"
      ]
     },
     "execution_count": 3,
     "metadata": {},
     "output_type": "execute_result"
    }
   ],
   "source": [
    "#-------------------------\n",
    "# 1. LOAD AND PREP DATA\n",
    "#-------------------------\n",
    "def readData(path):\n",
    "    f = gzip.open(path, 'rt')\n",
    "    reader = csv.reader(f)\n",
    "    head = next(reader)\n",
    "    rows = []\n",
    "    for row in reader:\n",
    "        rows.append(row)\n",
    "    return head, rows\n",
    "        \n",
    "p = \"assignment1/trainInteractions.csv.gz\"\n",
    "header, data1 = readData(p)\n",
    "header"
   ]
  },
  {
   "cell_type": "code",
   "execution_count": 4,
   "id": "666be00c",
   "metadata": {},
   "outputs": [],
   "source": [
    "train = [[d[0], d[1], d[3]] for d in data1]"
   ]
  },
  {
   "cell_type": "code",
   "execution_count": 5,
   "id": "3a1e0226",
   "metadata": {},
   "outputs": [
    {
     "data": {
      "text/html": [
       "<div>\n",
       "<style scoped>\n",
       "    .dataframe tbody tr th:only-of-type {\n",
       "        vertical-align: middle;\n",
       "    }\n",
       "\n",
       "    .dataframe tbody tr th {\n",
       "        vertical-align: top;\n",
       "    }\n",
       "\n",
       "    .dataframe thead th {\n",
       "        text-align: right;\n",
       "    }\n",
       "</style>\n",
       "<table border=\"1\" class=\"dataframe\">\n",
       "  <thead>\n",
       "    <tr style=\"text-align: right;\">\n",
       "      <th></th>\n",
       "      <th>user_id</th>\n",
       "      <th>recipe_id</th>\n",
       "      <th>date</th>\n",
       "      <th>rating</th>\n",
       "    </tr>\n",
       "  </thead>\n",
       "  <tbody>\n",
       "    <tr>\n",
       "      <th>0</th>\n",
       "      <td>88348277</td>\n",
       "      <td>3969194</td>\n",
       "      <td>2004-12-23</td>\n",
       "      <td>5</td>\n",
       "    </tr>\n",
       "    <tr>\n",
       "      <th>1642</th>\n",
       "      <td>88348277</td>\n",
       "      <td>90253693</td>\n",
       "      <td>2004-09-03</td>\n",
       "      <td>5</td>\n",
       "    </tr>\n",
       "    <tr>\n",
       "      <th>2440</th>\n",
       "      <td>88348277</td>\n",
       "      <td>54352178</td>\n",
       "      <td>2004-10-09</td>\n",
       "      <td>5</td>\n",
       "    </tr>\n",
       "    <tr>\n",
       "      <th>6953</th>\n",
       "      <td>88348277</td>\n",
       "      <td>821715</td>\n",
       "      <td>2004-11-15</td>\n",
       "      <td>0</td>\n",
       "    </tr>\n",
       "    <tr>\n",
       "      <th>7890</th>\n",
       "      <td>88348277</td>\n",
       "      <td>68579114</td>\n",
       "      <td>2005-04-06</td>\n",
       "      <td>5</td>\n",
       "    </tr>\n",
       "    <tr>\n",
       "      <th>...</th>\n",
       "      <td>...</td>\n",
       "      <td>...</td>\n",
       "      <td>...</td>\n",
       "      <td>...</td>\n",
       "    </tr>\n",
       "    <tr>\n",
       "      <th>244437</th>\n",
       "      <td>88348277</td>\n",
       "      <td>67101061</td>\n",
       "      <td>2008-03-30</td>\n",
       "      <td>3</td>\n",
       "    </tr>\n",
       "    <tr>\n",
       "      <th>244801</th>\n",
       "      <td>88348277</td>\n",
       "      <td>79579247</td>\n",
       "      <td>2004-12-30</td>\n",
       "      <td>0</td>\n",
       "    </tr>\n",
       "    <tr>\n",
       "      <th>247493</th>\n",
       "      <td>88348277</td>\n",
       "      <td>16101522</td>\n",
       "      <td>2004-08-29</td>\n",
       "      <td>5</td>\n",
       "    </tr>\n",
       "    <tr>\n",
       "      <th>247660</th>\n",
       "      <td>88348277</td>\n",
       "      <td>14764305</td>\n",
       "      <td>2004-11-11</td>\n",
       "      <td>5</td>\n",
       "    </tr>\n",
       "    <tr>\n",
       "      <th>247985</th>\n",
       "      <td>88348277</td>\n",
       "      <td>72382799</td>\n",
       "      <td>2004-02-08</td>\n",
       "      <td>5</td>\n",
       "    </tr>\n",
       "  </tbody>\n",
       "</table>\n",
       "<p>189 rows × 4 columns</p>\n",
       "</div>"
      ],
      "text/plain": [
       "         user_id  recipe_id        date  rating\n",
       "0       88348277    3969194  2004-12-23       5\n",
       "1642    88348277   90253693  2004-09-03       5\n",
       "2440    88348277   54352178  2004-10-09       5\n",
       "6953    88348277     821715  2004-11-15       0\n",
       "7890    88348277   68579114  2005-04-06       5\n",
       "...          ...        ...         ...     ...\n",
       "244437  88348277   67101061  2008-03-30       3\n",
       "244801  88348277   79579247  2004-12-30       0\n",
       "247493  88348277   16101522  2004-08-29       5\n",
       "247660  88348277   14764305  2004-11-11       5\n",
       "247985  88348277   72382799  2004-02-08       5\n",
       "\n",
       "[189 rows x 4 columns]"
      ]
     },
     "execution_count": 5,
     "metadata": {},
     "output_type": "execute_result"
    }
   ],
   "source": [
    "data2 = pd.read_csv(p)\n",
    "knn_train = data2[:250000]\n",
    "knn_train.loc[knn_train['user_id'] == int('88348277')]"
   ]
  },
  {
   "cell_type": "code",
   "execution_count": 6,
   "id": "a7e33c1f",
   "metadata": {},
   "outputs": [],
   "source": [
    "usersPerItem = defaultdict(set) # Maps an item to the users who rated it\n",
    "itemsPerUser = defaultdict(set) # Maps a user to the items that they rated\n",
    "ratingDict = {} # To retrieve a rating for a specific user/item pair\n",
    "\n",
    "for d in data1:\n",
    "    user,item = d[0], d[1]\n",
    "    usersPerItem[item].add(user)\n",
    "    itemsPerUser[user].add(item)\n",
    "    ratingDict[(user,item)] = int(d[3])"
   ]
  },
  {
   "cell_type": "code",
   "execution_count": 7,
   "id": "b8a1020d",
   "metadata": {},
   "outputs": [],
   "source": [
    "# Create a numeric user_id and recipe_id column\n",
    "data2['user'] = data2['user_id'].astype(\"category\")\n",
    "data2['recipe'] = data2['recipe_id'].astype(\"category\")\n",
    "data2['userID'] = data2['user'].cat.codes\n",
    "data2['recipeID'] = data2['recipe'].cat.codes\n",
    "\n",
    "userCode = dict(enumerate(data2.user_id.astype(\"category\").cat.categories))\n",
    "uc = {v: k for k, v in userCode.items()}\n",
    "recipeCode = dict(enumerate(data2.recipe_id.astype(\"category\").cat.categories))\n",
    "rc = {v: k for k, v in recipeCode.items()}"
   ]
  },
  {
   "cell_type": "code",
   "execution_count": 8,
   "id": "7863899d",
   "metadata": {},
   "outputs": [
    {
     "name": "stderr",
     "output_type": "stream",
     "text": [
      "WARNING:root:Intel MKL BLAS detected. Its highly recommend to set the environment variable 'export MKL_NUM_THREADS=1' to disable its internal multithreading\n"
     ]
    },
    {
     "data": {
      "application/vnd.jupyter.widget-view+json": {
       "model_id": "14fd99e44d40471abbfacac81394df5e",
       "version_major": 2,
       "version_minor": 0
      },
      "text/plain": [
       "  0%|          | 0/20 [00:00<?, ?it/s]"
      ]
     },
     "metadata": {},
     "output_type": "display_data"
    }
   ],
   "source": [
    "# Convert user names into numerical IDs\n",
    "sparse_item_user = sparse.csr_matrix((data2['rating'].astype(float), (data2['recipeID'], data2['userID'])))\n",
    "sparse_user_item = sparse.csr_matrix((data2['rating'].astype(float), (data2['userID'], data2['recipeID'])))\n",
    "\n",
    "# Initialize the als model and fit it using the sparse recipe-user matrix\n",
    "model = implicit.als.AlternatingLeastSquares(factors=20, regularization=0.1, iterations=20)\n",
    "\n",
    "# Calculate the confidence by multiplying it by alpha value.\n",
    "alpha_val = 40\n",
    "data_conf = (sparse_item_user * alpha_val).astype('double')\n",
    "\n",
    "# Fit the model\n",
    "model.fit(data_conf)"
   ]
  },
  {
   "cell_type": "code",
   "execution_count": 9,
   "id": "682e67ea",
   "metadata": {},
   "outputs": [],
   "source": [
    "def recommendPop(user_id, sparse_user_item, user_vecs, item_vecs, query_item, pop_list):\n",
    "    \"\"\"Recommend items for a given user given a trained model\n",
    "    \n",
    "    Args:\n",
    "        user_id (int): The id of the user we want to create recommendations for.\n",
    "        \n",
    "        data_sparse (csr_matrix): Our original training data.\n",
    "        \n",
    "        user_vecs (csr_matrix): The trained user x features vectors\n",
    "        \n",
    "        item_vecs (csr_matrix): The trained item x features vectors\n",
    "        \n",
    "        item_lookup (pandas.DataFrame): Used to map artist ids to artist names\n",
    "        \n",
    "        num_items (int): How many recommendations we want to return:\n",
    "        \n",
    "    Returns:\n",
    "        recommendations (pandas.DataFrame): DataFrame with num_items artist names and scores\n",
    "    \n",
    "    \"\"\"\n",
    "    # Get all interactions by the user\n",
    "    u = uc[int(user_id)]\n",
    "    user_interactions = sparse_user_item[u,:].toarray()\n",
    "\n",
    "    # We don't want to recommend items the user has consumed. So let's\n",
    "    # set them all to 0 and the unknowns to 1.\n",
    "    user_interactions = user_interactions.reshape(-1) + 1 #Reshape to turn into 1D array\n",
    "\n",
    "    # This is where we calculate the recommendation by taking the \n",
    "    # dot-product of the user vectors with the item vectors.\n",
    "    rec_vector = user_vecs[u,:].dot(item_vecs.T).toarray()\n",
    "\n",
    "    # Let's scale our scores between 0 and 1 to make it all easier to interpret.\n",
    "    min_max = MinMaxScaler()\n",
    "    rec_vector_scaled = min_max.fit_transform(rec_vector.reshape(-1,1))[:,0]\n",
    "    recommend_vector = user_interactions*rec_vector_scaled\n",
    "   \n",
    "    # Get all the artist indices in order of recommendations (descending) and\n",
    "    # select only the top \"num_items\" items. \n",
    "\n",
    "    # item has been seen before \n",
    "    if int(query_item) in rc:\n",
    "        i = rc[int(query_item)]\n",
    "        ## if compatible or item is popular\n",
    "        if (recommend_vector[i] >= 0.7) or (query_item in pop_list):\n",
    "            return 1\n",
    "        else: \n",
    "            return 0\n",
    "        ## if not compatible \n",
    "    # item has not been seen before but users cooked a lot\n",
    "    elif len(itemsPerUser[user_id]) >= 3500:\n",
    "        return 1    \n",
    "    return 0"
   ]
  },
  {
   "cell_type": "code",
   "execution_count": 10,
   "id": "2bba486e",
   "metadata": {},
   "outputs": [],
   "source": [
    "# cross_validate(algo, knn_train, measures=['RMSE'], cv=5, verbose=True)"
   ]
  },
  {
   "cell_type": "code",
   "execution_count": 11,
   "id": "e88c2885",
   "metadata": {},
   "outputs": [],
   "source": [
    "user_vecs = sparse.csr_matrix(model.user_factors)\n",
    "item_vecs = sparse.csr_matrix(model.item_factors)\n",
    "\n",
    "def would_cook1():\n",
    "    # Popular recipes\n",
    "    recipeCount = defaultdict(int)\n",
    "    totalCooked = 0\n",
    "\n",
    "    for user,recipe,_ in train:\n",
    "        recipeCount[recipe] += 1\n",
    "        totalCooked += 1\n",
    "\n",
    "    mostPopular = [(recipeCount[x], x) for x in recipeCount]\n",
    "    mostPopular.sort()\n",
    "    mostPopular.reverse()\n",
    "    \n",
    "    # Try different threshold \n",
    "    limit = totalCooked/1.5\n",
    "        \n",
    "    return1 = set()\n",
    "    count = 0\n",
    "    for ic, i in mostPopular:\n",
    "        count += ic\n",
    "        return1.add(i)\n",
    "        if count > limit: break\n",
    "\n",
    "    predictions = open(\"assignment1/predictions_Made.txt\", 'w')\n",
    "    for l in open(\"assignment1/stub_Made.txt\"):\n",
    "        if l.startswith(\"user_id\"):\n",
    "        #header\n",
    "            predictions.write(l)\n",
    "            continue\n",
    "\n",
    "        u,i = l.strip().split('-')\n",
    "        \n",
    "        # New User\n",
    "        if (not int(u) in uc):\n",
    "            if i in return1:\n",
    "                predictions.write(u + '-' + i + \",1\\n\")\n",
    "            else:\n",
    "                predictions.write(u + '-' + i + \",0\\n\")\n",
    "\n",
    "            continue\n",
    "            \n",
    "        # Existing user\n",
    "        result = recommendPop(u, sparse_user_item, user_vecs, item_vecs, i, return1)\n",
    "        if result == 0:\n",
    "            predictions.write(u + '-' + i + \",0\\n\")\n",
    "        else:\n",
    "            predictions.write(u + '-' + i + \",1\\n\")\n",
    "    predictions.close()    "
   ]
  },
  {
   "cell_type": "code",
   "execution_count": null,
   "id": "4aa6a87d",
   "metadata": {},
   "outputs": [],
   "source": [
    "would_cook1()"
   ]
  }
 ],
 "metadata": {
  "kernelspec": {
   "display_name": "Python 3",
   "language": "python",
   "name": "python3"
  },
  "language_info": {
   "codemirror_mode": {
    "name": "ipython",
    "version": 3
   },
   "file_extension": ".py",
   "mimetype": "text/x-python",
   "name": "python",
   "nbconvert_exporter": "python",
   "pygments_lexer": "ipython3",
   "version": "3.8.8"
  }
 },
 "nbformat": 4,
 "nbformat_minor": 5
}
